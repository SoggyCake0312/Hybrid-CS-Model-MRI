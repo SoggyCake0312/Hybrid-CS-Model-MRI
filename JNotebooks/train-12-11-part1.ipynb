{
 "cells": [
  {
   "cell_type": "markdown",
   "id": "27043863",
   "metadata": {
    "papermill": {
     "duration": 0.010224,
     "end_time": "2022-11-07T22:04:44.383836",
     "exception": false,
     "start_time": "2022-11-07T22:04:44.373612",
     "status": "completed"
    },
    "tags": []
   },
   "source": [
    "# W-net Model - Train"
   ]
  },
  {
   "cell_type": "code",
   "execution_count": 1,
   "id": "7f756fa0",
   "metadata": {
    "execution": {
     "iopub.execute_input": "2022-11-07T22:04:44.395990Z",
     "iopub.status.busy": "2022-11-07T22:04:44.395182Z",
     "iopub.status.idle": "2022-11-07T22:04:51.990141Z",
     "shell.execute_reply": "2022-11-07T22:04:51.988968Z"
    },
    "papermill": {
     "duration": 7.606721,
     "end_time": "2022-11-07T22:04:51.995634",
     "exception": false,
     "start_time": "2022-11-07T22:04:44.388913",
     "status": "completed"
    },
    "tags": []
   },
   "outputs": [
    {
     "name": "stderr",
     "output_type": "stream",
     "text": [
      "D:\\Softwares\\Anaconda\\lib\\site-packages\\scipy\\__init__.py:146: UserWarning: A NumPy version >=1.16.5 and <1.23.0 is required for this version of SciPy (detected version 1.23.4\n",
      "  warnings.warn(f\"A NumPy version >={np_minversion} and <{np_maxversion}\"\n"
     ]
    },
    {
     "name": "stdout",
     "output_type": "stream",
     "text": [
      "Model: \"model\"\n",
      "__________________________________________________________________________________________________\n",
      " Layer (type)                   Output Shape         Param #     Connected to                     \n",
      "==================================================================================================\n",
      " input_1 (InputLayer)           [(None, 3, 256, 256  0           []                               \n",
      "                                , 2)]                                                             \n",
      "                                                                                                  \n",
      " conv3d (Conv3D)                (None, 3, 256, 256,  912         ['input_1[0][0]']                \n",
      "                                 48)                                                              \n",
      "                                                                                                  \n",
      " conv3d_1 (Conv3D)              (None, 3, 256, 256,  20784       ['conv3d[0][0]']                 \n",
      "                                 48)                                                              \n",
      "                                                                                                  \n",
      " max_pooling3d (MaxPooling3D)   (None, 3, 128, 128,  0           ['conv3d_1[0][0]']               \n",
      "                                 48)                                                              \n",
      "                                                                                                  \n",
      " conv3d_2 (Conv3D)              (None, 3, 128, 128,  27712       ['max_pooling3d[0][0]']          \n",
      "                                 64)                                                              \n",
      "                                                                                                  \n",
      " conv3d_3 (Conv3D)              (None, 3, 128, 128,  36928       ['conv3d_2[0][0]']               \n",
      "                                 64)                                                              \n",
      "                                                                                                  \n",
      " max_pooling3d_1 (MaxPooling3D)  (None, 3, 64, 64, 6  0          ['conv3d_3[0][0]']               \n",
      "                                4)                                                                \n",
      "                                                                                                  \n",
      " conv3d_4 (Conv3D)              (None, 3, 64, 64, 1  73856       ['max_pooling3d_1[0][0]']        \n",
      "                                28)                                                               \n",
      "                                                                                                  \n",
      " conv3d_5 (Conv3D)              (None, 3, 64, 64, 1  147584      ['conv3d_4[0][0]']               \n",
      "                                28)                                                               \n",
      "                                                                                                  \n",
      " max_pooling3d_2 (MaxPooling3D)  (None, 3, 32, 32, 1  0          ['conv3d_5[0][0]']               \n",
      "                                28)                                                               \n",
      "                                                                                                  \n",
      " conv3d_6 (Conv3D)              (None, 3, 32, 32, 2  295168      ['max_pooling3d_2[0][0]']        \n",
      "                                56)                                                               \n",
      "                                                                                                  \n",
      " conv3d_7 (Conv3D)              (None, 3, 32, 32, 2  590080      ['conv3d_6[0][0]']               \n",
      "                                56)                                                               \n",
      "                                                                                                  \n",
      " up_sampling3d (UpSampling3D)   (None, 3, 64, 64, 2  0           ['conv3d_7[0][0]']               \n",
      "                                56)                                                               \n",
      "                                                                                                  \n",
      " concatenate (Concatenate)      (None, 3, 64, 64, 3  0           ['up_sampling3d[0][0]',          \n",
      "                                84)                               'conv3d_5[0][0]']               \n",
      "                                                                                                  \n",
      " conv3d_8 (Conv3D)              (None, 3, 64, 64, 1  442496      ['concatenate[0][0]']            \n",
      "                                28)                                                               \n",
      "                                                                                                  \n",
      " conv3d_9 (Conv3D)              (None, 3, 64, 64, 1  147584      ['conv3d_8[0][0]']               \n",
      "                                28)                                                               \n",
      "                                                                                                  \n",
      " up_sampling3d_1 (UpSampling3D)  (None, 3, 128, 128,  0          ['conv3d_9[0][0]']               \n",
      "                                 128)                                                             \n",
      "                                                                                                  \n",
      " concatenate_1 (Concatenate)    (None, 3, 128, 128,  0           ['up_sampling3d_1[0][0]',        \n",
      "                                 192)                             'conv3d_3[0][0]']               \n",
      "                                                                                                  \n",
      " conv3d_10 (Conv3D)             (None, 3, 128, 128,  110656      ['concatenate_1[0][0]']          \n",
      "                                 64)                                                              \n",
      "                                                                                                  \n",
      " conv3d_11 (Conv3D)             (None, 3, 128, 128,  36928       ['conv3d_10[0][0]']              \n",
      "                                 64)                                                              \n",
      "                                                                                                  \n",
      " up_sampling3d_2 (UpSampling3D)  (None, 3, 256, 256,  0          ['conv3d_11[0][0]']              \n",
      "                                 64)                                                              \n",
      "                                                                                                  \n",
      " concatenate_2 (Concatenate)    (None, 3, 256, 256,  0           ['up_sampling3d_2[0][0]',        \n",
      "                                 112)                             'conv3d_1[0][0]']               \n",
      "                                                                                                  \n",
      " conv3d_12 (Conv3D)             (None, 3, 256, 256,  48432       ['concatenate_2[0][0]']          \n",
      "                                 48)                                                              \n",
      "                                                                                                  \n",
      " conv3d_13 (Conv3D)             (None, 3, 256, 256,  20784       ['conv3d_12[0][0]']              \n",
      "                                 48)                                                              \n",
      "                                                                                                  \n",
      " conv3d_14 (Conv3D)             (None, 3, 256, 256,  98          ['conv3d_13[0][0]']              \n",
      "                                 2)                                                               \n",
      "                                                                                                  \n",
      " add (Add)                      (None, 3, 256, 256,  0           ['conv3d_14[0][0]',              \n",
      "                                 2)                               'input_1[0][0]']                \n",
      "                                                                                                  \n",
      " lambda (Lambda)                (None, 3, 256, 256,  0           ['add[0][0]']                    \n",
      "                                 2)                                                               \n"
     ]
    },
    {
     "name": "stdout",
     "output_type": "stream",
     "text": [
      "                                                                                                  \n",
      " lambda_1 (Lambda)              (None, 3, 256, 256,  0           ['lambda[0][0]']                 \n",
      "                                 1)                                                               \n",
      "                                                                                                  \n",
      " lambda_2 (Lambda)              (None, 3, 256, 256,  0           ['lambda_1[0][0]']               \n",
      "                                 1)                                                               \n",
      "                                                                                                  \n",
      " conv3d_15 (Conv3D)             (None, 3, 256, 256,  480         ['lambda_2[0][0]']               \n",
      "                                 48)                                                              \n",
      "                                                                                                  \n",
      " conv3d_16 (Conv3D)             (None, 3, 256, 256,  20784       ['conv3d_15[0][0]']              \n",
      "                                 48)                                                              \n",
      "                                                                                                  \n",
      " max_pooling3d_3 (MaxPooling3D)  (None, 3, 128, 128,  0          ['conv3d_16[0][0]']              \n",
      "                                 48)                                                              \n",
      "                                                                                                  \n",
      " conv3d_17 (Conv3D)             (None, 3, 128, 128,  27712       ['max_pooling3d_3[0][0]']        \n",
      "                                 64)                                                              \n",
      "                                                                                                  \n",
      " conv3d_18 (Conv3D)             (None, 3, 128, 128,  36928       ['conv3d_17[0][0]']              \n",
      "                                 64)                                                              \n",
      "                                                                                                  \n",
      " max_pooling3d_4 (MaxPooling3D)  (None, 3, 64, 64, 6  0          ['conv3d_18[0][0]']              \n",
      "                                4)                                                                \n",
      "                                                                                                  \n",
      " conv3d_19 (Conv3D)             (None, 3, 64, 64, 1  73856       ['max_pooling3d_4[0][0]']        \n",
      "                                28)                                                               \n",
      "                                                                                                  \n",
      " conv3d_20 (Conv3D)             (None, 3, 64, 64, 1  147584      ['conv3d_19[0][0]']              \n",
      "                                28)                                                               \n",
      "                                                                                                  \n",
      " max_pooling3d_5 (MaxPooling3D)  (None, 3, 32, 32, 1  0          ['conv3d_20[0][0]']              \n",
      "                                28)                                                               \n",
      "                                                                                                  \n",
      " conv3d_21 (Conv3D)             (None, 3, 32, 32, 2  295168      ['max_pooling3d_5[0][0]']        \n",
      "                                56)                                                               \n",
      "                                                                                                  \n",
      " conv3d_22 (Conv3D)             (None, 3, 32, 32, 2  590080      ['conv3d_21[0][0]']              \n",
      "                                56)                                                               \n",
      "                                                                                                  \n",
      " up_sampling3d_3 (UpSampling3D)  (None, 3, 64, 64, 2  0          ['conv3d_22[0][0]']              \n",
      "                                56)                                                               \n",
      "                                                                                                  \n",
      " concatenate_3 (Concatenate)    (None, 3, 64, 64, 3  0           ['up_sampling3d_3[0][0]',        \n",
      "                                84)                               'conv3d_20[0][0]']              \n",
      "                                                                                                  \n",
      " conv3d_23 (Conv3D)             (None, 3, 64, 64, 1  442496      ['concatenate_3[0][0]']          \n",
      "                                28)                                                               \n",
      "                                                                                                  \n",
      " conv3d_24 (Conv3D)             (None, 3, 64, 64, 1  147584      ['conv3d_23[0][0]']              \n",
      "                                28)                                                               \n",
      "                                                                                                  \n",
      " up_sampling3d_4 (UpSampling3D)  (None, 3, 128, 128,  0          ['conv3d_24[0][0]']              \n",
      "                                 128)                                                             \n",
      "                                                                                                  \n",
      " concatenate_4 (Concatenate)    (None, 3, 128, 128,  0           ['up_sampling3d_4[0][0]',        \n",
      "                                 192)                             'conv3d_18[0][0]']              \n",
      "                                                                                                  \n",
      " conv3d_25 (Conv3D)             (None, 3, 128, 128,  110656      ['concatenate_4[0][0]']          \n",
      "                                 64)                                                              \n",
      "                                                                                                  \n",
      " conv3d_26 (Conv3D)             (None, 3, 128, 128,  36928       ['conv3d_25[0][0]']              \n",
      "                                 64)                                                              \n",
      "                                                                                                  \n",
      " up_sampling3d_5 (UpSampling3D)  (None, 3, 256, 256,  0          ['conv3d_26[0][0]']              \n",
      "                                 64)                                                              \n",
      "                                                                                                  \n",
      " concatenate_5 (Concatenate)    (None, 3, 256, 256,  0           ['up_sampling3d_5[0][0]',        \n",
      "                                 112)                             'conv3d_16[0][0]']              \n",
      "                                                                                                  \n",
      " conv3d_27 (Conv3D)             (None, 3, 256, 256,  48432       ['concatenate_5[0][0]']          \n",
      "                                 48)                                                              \n",
      "                                                                                                  \n",
      " conv3d_28 (Conv3D)             (None, 3, 256, 256,  20784       ['conv3d_27[0][0]']              \n",
      "                                 48)                                                              \n",
      "                                                                                                  \n",
      " conv2d (Conv2D)                (None, 3, 256, 256,  49          ['conv3d_28[0][0]']              \n",
      "                                 1)                                                               \n",
      "                                                                                                  \n",
      " lambda_3 (Lambda)              (None, 256, 256, 1)  0           ['conv2d[0][0]']                 \n",
      "                                                                                                  \n",
      "==================================================================================================\n",
      "Total params: 3,999,523\n",
      "Trainable params: 3,999,523\n",
      "Non-trainable params: 0\n"
     ]
    },
    {
     "name": "stdout",
     "output_type": "stream",
     "text": [
      "__________________________________________________________________________________________________\n"
     ]
    }
   ],
   "source": [
    "%matplotlib inline\n",
    "import matplotlib.pylab as plt\n",
    "import numpy as np\n",
    "import os\n",
    "import glob\n",
    "import sys\n",
    "from keras.optimizers import  Adam\n",
    "\n",
    "\n",
    "# Importing our w-net model\n",
    "MY_UTILS_PATH = \"../Modules/\"\n",
    "if not MY_UTILS_PATH in sys.path:\n",
    "    sys.path.append(MY_UTILS_PATH)\n",
    "import frequency_spatial_network as fsnet\n",
    "\n",
    "# Importing callbacks and data augmentation utils\n",
    "from keras.callbacks import ModelCheckpoint, EarlyStopping\n",
    "from keras.preprocessing.image import ImageDataGenerator"
   ]
  },
  {
   "cell_type": "code",
   "execution_count": 2,
   "id": "5c562338",
   "metadata": {
    "execution": {
     "iopub.execute_input": "2022-11-07T22:04:52.028548Z",
     "iopub.status.busy": "2022-11-07T22:04:52.027655Z",
     "iopub.status.idle": "2022-11-07T22:04:52.036986Z",
     "shell.execute_reply": "2022-11-07T22:04:52.035739Z"
    },
    "papermill": {
     "duration": 0.022853,
     "end_time": "2022-11-07T22:04:52.038701",
     "exception": false,
     "start_time": "2022-11-07T22:04:52.015848",
     "status": "completed"
    },
    "tags": []
   },
   "outputs": [
    {
     "name": "stdout",
     "output_type": "stream",
     "text": [
      "2.10.0\n",
      "2.10.0\n",
      "WARNING:tensorflow:From D:\\Softwares\\Anaconda\\lib\\site-packages\\tensorflow\\python\\compat\\v2_compat.py:107: disable_resource_variables (from tensorflow.python.ops.variable_scope) is deprecated and will be removed in a future version.\n",
      "Instructions for updating:\n",
      "non-resource variables are not supported in the long term\n"
     ]
    }
   ],
   "source": [
    "import keras\n",
    "print(keras.__version__)\n",
    "\n",
    "print(keras.__version__)\n",
    "\n",
    "import tensorflow.compat.v1 as tf\n",
    "tf.disable_v2_behavior()"
   ]
  },
  {
   "cell_type": "code",
   "execution_count": 3,
   "id": "43f41f9b",
   "metadata": {
    "execution": {
     "iopub.execute_input": "2022-11-07T22:04:52.063445Z",
     "iopub.status.busy": "2022-11-07T22:04:52.062780Z",
     "iopub.status.idle": "2022-11-07T22:04:52.519493Z",
     "shell.execute_reply": "2022-11-07T22:04:52.518486Z"
    },
    "papermill": {
     "duration": 0.47258,
     "end_time": "2022-11-07T22:04:52.523219",
     "exception": false,
     "start_time": "2022-11-07T22:04:52.050639",
     "status": "completed"
    },
    "tags": []
   },
   "outputs": [
    {
     "name": "stdout",
     "output_type": "stream",
     "text": [
      "<keras.engine.functional.Functional object at 0x000002AEF9086FA0>\n"
     ]
    }
   ],
   "source": [
    "print(fsnet.wnet_new(1,2,3,4))"
   ]
  },
  {
   "cell_type": "code",
   "execution_count": 4,
   "id": "8a76bc0f",
   "metadata": {
    "execution": {
     "iopub.execute_input": "2022-11-07T22:04:52.556859Z",
     "iopub.status.busy": "2022-11-07T22:04:52.556236Z",
     "iopub.status.idle": "2022-11-07T22:04:52.567829Z",
     "shell.execute_reply": "2022-11-07T22:04:52.566797Z"
    },
    "papermill": {
     "duration": 0.025445,
     "end_time": "2022-11-07T22:04:52.569548",
     "exception": false,
     "start_time": "2022-11-07T22:04:52.544103",
     "status": "completed"
    },
    "tags": []
   },
   "outputs": [
    {
     "name": "stdout",
     "output_type": "stream",
     "text": [
      "D:\\Dataset\\calgary\\Train\\Train\\e14141s3_P58880.7.npy\n",
      "1\n",
      "D:\\Dataset\\calgary\\Val\\Val\\e14351s3_P29184.7.npy\n",
      "1\n"
     ]
    }
   ],
   "source": [
    "# Train Set \n",
    "train_path = r\"../../calgary/Train/Train/*.npy\"\n",
    "# train_path = r\"D:\\Dataset\\calgary\\Train\\Train\\e14141s3_P58880.7.npy\"\n",
    "kspace_files_train = np.asarray(glob.glob(train_path))\n",
    "\n",
    "# Validation set\n",
    "val_path = r\"../../calgary/Val/Val/*.npy\"\n",
    "# val_path = r\"D:\\Dataset\\calgary\\Val\\Val\\e14351s3_P29184.7.npy\"\n",
    "kspace_files_val = np.asarray(glob.glob(val_path))\n",
    "\n",
    "indexes = np.arange(kspace_files_train.size,dtype = int)\n",
    "np.random.shuffle(indexes)\n",
    "kspace_files_train = kspace_files_train[indexes]\n",
    "\n",
    "\n",
    "print(kspace_files_train[-1])\n",
    "print(len(kspace_files_train))\n",
    "\n",
    "print(kspace_files_val[-1])\n",
    "print(len(kspace_files_val))"
   ]
  },
  {
   "cell_type": "code",
   "execution_count": 5,
   "id": "a266c923",
   "metadata": {
    "execution": {
     "iopub.execute_input": "2022-11-07T22:04:52.593795Z",
     "iopub.status.busy": "2022-11-07T22:04:52.593097Z",
     "iopub.status.idle": "2022-11-07T22:04:52.873769Z",
     "shell.execute_reply": "2022-11-07T22:04:52.872834Z"
    },
    "papermill": {
     "duration": 0.304501,
     "end_time": "2022-11-07T22:04:52.884448",
     "exception": false,
     "start_time": "2022-11-07T22:04:52.579947",
     "status": "completed"
    },
    "tags": []
   },
   "outputs": [
    {
     "name": "stdout",
     "output_type": "stream",
     "text": [
      "Undersampling: 0.82293701171875\n",
      "Mask type: bool\n"
     ]
    },
    {
     "data": {
      "image/png": "[encoded data removed]",
      "text/plain": [
       "<Figure size 432x288 with 1 Axes>"
      ]
     },
     "metadata": {
      "needs_background": "light"
     },
     "output_type": "display_data"
    }
   ],
   "source": [
    "under_rate = '20'\n",
    "imshape = (256,256)\n",
    "norm = np.sqrt(imshape[0]*imshape[1])\n",
    "nchannels = 2 #complex data real + imag\n",
    "\n",
    "# undersampling patterns - uncentred k-space\n",
    "var_sampling_mask = np.load(\"../Data/sampling_mask_\" + under_rate + \"perc.npy\")\n",
    "\n",
    "print(\"Undersampling:\", 1.0*var_sampling_mask.sum()/var_sampling_mask.size)\n",
    "print(\"Mask type:\",  var_sampling_mask.dtype)\n",
    "plt.figure()\n",
    "plt.imshow(~var_sampling_mask,cmap = \"gray\")\n",
    "plt.axis(\"off\")\n",
    "plt.show()"
   ]
  },
  {
   "cell_type": "markdown",
   "id": "b221296b",
   "metadata": {
    "papermill": {
     "duration": 0.011418,
     "end_time": "2022-11-07T22:04:52.912056",
     "exception": false,
     "start_time": "2022-11-07T22:04:52.900638",
     "status": "completed"
    },
    "tags": []
   },
   "source": [
    "## Load Train Data"
   ]
  },
  {
   "cell_type": "code",
   "execution_count": 6,
   "id": "f492e59a",
   "metadata": {
    "execution": {
     "iopub.execute_input": "2022-11-07T22:04:52.937536Z",
     "iopub.status.busy": "2022-11-07T22:04:52.936922Z",
     "iopub.status.idle": "2022-11-07T22:06:05.677140Z",
     "shell.execute_reply": "2022-11-07T22:06:05.675980Z"
    },
    "papermill": {
     "duration": 72.77716,
     "end_time": "2022-11-07T22:06:05.700790",
     "exception": false,
     "start_time": "2022-11-07T22:04:52.923630",
     "status": "completed"
    },
    "tags": []
   },
   "outputs": [
    {
     "name": "stdout",
     "output_type": "stream",
     "text": [
      "Number of training samples 170\n"
     ]
    }
   ],
   "source": [
    "# Get number of samples\n",
    "ntrain = 0\n",
    "for ii in range(len(kspace_files_train)):\n",
    "    ntrain += np.load(kspace_files_train[ii]).shape[0]\n",
    "#     ntrain += 168\n",
    "\n",
    "# Load train data    \n",
    "rec_train = np.zeros((ntrain,imshape[0],imshape[1],2))\n",
    "kspace_train = np.zeros((ntrain,imshape[0],imshape[1],2))\n",
    "aux_counter = 0\n",
    "for ii in range(len(kspace_files_train)):\n",
    "    aux_kspace = np.load(kspace_files_train[ii])/norm\n",
    "    aux = aux_kspace.shape[0]   \n",
    "    aux2 = np.fft.ifft2(aux_kspace[:,:,:,0]+1j*aux_kspace[:,:,:,1])\n",
    "    rec_train[aux_counter:aux_counter+aux,:,:,0] = aux2.real\n",
    "    rec_train[aux_counter:aux_counter+aux,:,:,1] = aux2.imag\n",
    "    kspace_train[aux_counter:aux_counter+aux,:,:,0] = aux_kspace[:,:,:,0]\n",
    "    kspace_train[aux_counter:aux_counter+aux,:,:,1] = aux_kspace[:,:,:,1]\n",
    "    aux_counter+=aux\n",
    "\n",
    "# Shuffle training    \n",
    "# indexes = np.arange(rec_train.shape[0],dtype = int)\n",
    "# np.random.shuffle(indexes)\n",
    "# rec_train = rec_train[indexes]\n",
    "\n",
    "kspace_train[:,var_sampling_mask,:] = 0 # undersample k-space\n",
    "\n",
    "# save k-space and image domain stats\n",
    "stats = np.zeros(4)\n",
    "stats[0] = kspace_train.mean()\n",
    "stats[1] = kspace_train.std()\n",
    "aux = np.abs(rec_train[:,:,:,0] +1j*rec_train[:,:,:,1])\n",
    "stats[2] = aux.mean()\n",
    "stats[3] = aux.std()\n",
    "np.save(\"../Data/stats_fs_unet_norm_\" + under_rate + \".npy\",stats)\n",
    "\n",
    "print(\"Number of training samples\", rec_train.shape[0])\n",
    "kspace_train = 0 # release memory"
   ]
  },
  {
   "cell_type": "markdown",
   "id": "2151970a",
   "metadata": {
    "papermill": {
     "duration": 0.010857,
     "end_time": "2022-11-07T22:06:05.722427",
     "exception": false,
     "start_time": "2022-11-07T22:06:05.711570",
     "status": "completed"
    },
    "tags": []
   },
   "source": [
    "## Load Validation Data"
   ]
  },
  {
   "cell_type": "code",
   "execution_count": 7,
   "id": "cdfb4e59",
   "metadata": {
    "execution": {
     "iopub.execute_input": "2022-11-07T22:06:05.745529Z",
     "iopub.status.busy": "2022-11-07T22:06:05.745080Z",
     "iopub.status.idle": "2022-11-07T22:06:34.269170Z",
     "shell.execute_reply": "2022-11-07T22:06:34.267949Z"
    },
    "papermill": {
     "duration": 28.540008,
     "end_time": "2022-11-07T22:06:34.273066",
     "exception": false,
     "start_time": "2022-11-07T22:06:05.733058",
     "status": "completed"
    },
    "tags": []
   },
   "outputs": [
    {
     "name": "stdout",
     "output_type": "stream",
     "text": [
      "Number of samples 170\n",
      "Kspace under stats -3.8131164631996625e-05 0.9633251330989995\n",
      "Kspace full stats 0.09058370222776935 1039.5451611907024\n",
      "Rec stats (3.6269020378589683+1.7514527901368086e-12j) 4.25529665823789\n"
     ]
    }
   ],
   "source": [
    "# Get number of samples\n",
    "nval = 0\n",
    "for ii in range(len(kspace_files_val)):\n",
    "    nval += np.load(kspace_files_val[ii]).shape[0]\n",
    "\n",
    "kspace_val = np.zeros((nval,imshape[0],imshape[1],nchannels))\n",
    "rec_val = np.zeros((nval,imshape[0],imshape[1],1))\n",
    "aux_counter = 0\n",
    "for ii in range(len(kspace_files_val)):\n",
    "    aux_kspace = np.load(kspace_files_val[ii])/norm\n",
    "    aux = aux_kspace.shape[0]   \n",
    "    kspace_val[aux_counter:aux_counter+aux] = aux_kspace\n",
    "    rec_val[aux_counter:aux_counter+aux,:,:,0] = \\\n",
    "    np.abs(np.fft.ifft2(aux_kspace[:,:,:,0]+1j*aux_kspace[:,:,:,1]))\n",
    "    aux_counter+=aux\n",
    "\n",
    "# Undersampling kspace\n",
    "kspace_val2 = kspace_val.copy()\n",
    "kspace_val[:,var_sampling_mask,:] = 0\n",
    "\n",
    "rec_val = np.fft.ifft2(kspace_val[:,:,:,0]+1j*kspace_val[:,:,:,1])\n",
    "rec_val2 = np.fft.ifft2(kspace_val2[:,:,:,0]+1j*kspace_val2[:,:,:,1])\n",
    "rec_val = np.expand_dims(rec_val, axis=-1)\n",
    "\n",
    "kspace_val = (kspace_val-stats[0])/stats[1]\n",
    "\n",
    "print(\"Number of samples\", kspace_val.shape[0])\n",
    "print(\"Kspace under stats\", kspace_val.mean(),kspace_val.std())\n",
    "print(\"Kspace full stats\", kspace_val2.mean(),kspace_val2.std())\n",
    "print(\"Rec stats\", rec_val.mean(),rec_val.std())"
   ]
  },
  {
   "cell_type": "markdown",
   "id": "176bcf82",
   "metadata": {
    "papermill": {
     "duration": 0.01153,
     "end_time": "2022-11-07T22:06:34.303655",
     "exception": false,
     "start_time": "2022-11-07T22:06:34.292125",
     "status": "completed"
    },
    "tags": []
   },
   "source": [
    "## Initialize Model"
   ]
  },
  {
   "cell_type": "code",
   "execution_count": 8,
   "id": "613fc3bd",
   "metadata": {
    "execution": {
     "iopub.execute_input": "2022-11-07T22:06:34.329144Z",
     "iopub.status.busy": "2022-11-07T22:06:34.328506Z",
     "iopub.status.idle": "2022-11-07T22:06:36.138225Z",
     "shell.execute_reply": "2022-11-07T22:06:36.137586Z"
    },
    "papermill": {
     "duration": 1.850644,
     "end_time": "2022-11-07T22:06:36.165879",
     "exception": false,
     "start_time": "2022-11-07T22:06:34.315235",
     "status": "completed"
    },
    "scrolled": true,
    "tags": []
   },
   "outputs": [
    {
     "name": "stdout",
     "output_type": "stream",
     "text": [
      "Model: \"model_2\"\n",
      "__________________________________________________________________________________________________\n",
      " Layer (type)                   Output Shape         Param #     Connected to                     \n",
      "==================================================================================================\n",
      " input_2 (InputLayer)           [(None, 256, 256, 2  0           []                               \n",
      "                                )]                                                                \n",
      "                                                                                                  \n",
      " conv2d_2 (Conv2D)              (None, 256, 256, 48  912         ['input_2[0][0]']                \n",
      "                                )                                                                 \n",
      "                                                                                                  \n",
      " conv2d_3 (Conv2D)              (None, 256, 256, 48  20784       ['conv2d_2[0][0]']               \n",
      "                                )                                                                 \n",
      "                                                                                                  \n",
      " max_pooling2d (MaxPooling2D)   (None, 128, 128, 48  0           ['conv2d_3[0][0]']               \n",
      "                                )                                                                 \n",
      "                                                                                                  \n",
      " conv2d_4 (Conv2D)              (None, 128, 128, 64  27712       ['max_pooling2d[0][0]']          \n",
      "                                )                                                                 \n",
      "                                                                                                  \n",
      " conv2d_5 (Conv2D)              (None, 128, 128, 64  36928       ['conv2d_4[0][0]']               \n",
      "                                )                                                                 \n",
      "                                                                                                  \n",
      " max_pooling2d_1 (MaxPooling2D)  (None, 64, 64, 64)  0           ['conv2d_5[0][0]']               \n",
      "                                                                                                  \n",
      " conv2d_6 (Conv2D)              (None, 64, 64, 128)  73856       ['max_pooling2d_1[0][0]']        \n",
      "                                                                                                  \n",
      " conv2d_7 (Conv2D)              (None, 64, 64, 128)  147584      ['conv2d_6[0][0]']               \n",
      "                                                                                                  \n",
      " max_pooling2d_2 (MaxPooling2D)  (None, 32, 32, 128)  0          ['conv2d_7[0][0]']               \n",
      "                                                                                                  \n",
      " conv2d_8 (Conv2D)              (None, 32, 32, 256)  295168      ['max_pooling2d_2[0][0]']        \n",
      "                                                                                                  \n",
      " conv2d_9 (Conv2D)              (None, 32, 32, 256)  590080      ['conv2d_8[0][0]']               \n",
      "                                                                                                  \n",
      " up_sampling2d (UpSampling2D)   (None, 64, 64, 256)  0           ['conv2d_9[0][0]']               \n",
      "                                                                                                  \n",
      " concatenate_12 (Concatenate)   (None, 64, 64, 384)  0           ['up_sampling2d[0][0]',          \n",
      "                                                                  'conv2d_7[0][0]']               \n",
      "                                                                                                  \n",
      " conv2d_10 (Conv2D)             (None, 64, 64, 128)  442496      ['concatenate_12[0][0]']         \n",
      "                                                                                                  \n",
      " conv2d_11 (Conv2D)             (None, 64, 64, 128)  147584      ['conv2d_10[0][0]']              \n",
      "                                                                                                  \n",
      " up_sampling2d_1 (UpSampling2D)  (None, 128, 128, 12  0          ['conv2d_11[0][0]']              \n",
      "                                8)                                                                \n",
      "                                                                                                  \n",
      " concatenate_13 (Concatenate)   (None, 128, 128, 19  0           ['up_sampling2d_1[0][0]',        \n",
      "                                2)                                'conv2d_5[0][0]']               \n",
      "                                                                                                  \n",
      " conv2d_12 (Conv2D)             (None, 128, 128, 64  110656      ['concatenate_13[0][0]']         \n",
      "                                )                                                                 \n",
      "                                                                                                  \n",
      " conv2d_13 (Conv2D)             (None, 128, 128, 64  36928       ['conv2d_12[0][0]']              \n",
      "                                )                                                                 \n",
      "                                                                                                  \n",
      " up_sampling2d_2 (UpSampling2D)  (None, 256, 256, 64  0          ['conv2d_13[0][0]']              \n",
      "                                )                                                                 \n",
      "                                                                                                  \n",
      " concatenate_14 (Concatenate)   (None, 256, 256, 11  0           ['up_sampling2d_2[0][0]',        \n",
      "                                2)                                'conv2d_3[0][0]']               \n",
      "                                                                                                  \n",
      " conv2d_14 (Conv2D)             (None, 256, 256, 48  48432       ['concatenate_14[0][0]']         \n",
      "                                )                                                                 \n",
      "                                                                                                  \n",
      " conv2d_15 (Conv2D)             (None, 256, 256, 48  20784       ['conv2d_14[0][0]']              \n",
      "                                )                                                                 \n",
      "                                                                                                  \n",
      " conv2d_16 (Conv2D)             (None, 256, 256, 2)  98          ['conv2d_15[0][0]']              \n",
      "                                                                                                  \n",
      " add_2 (Add)                    (None, 256, 256, 2)  0           ['conv2d_16[0][0]',              \n",
      "                                                                  'input_2[0][0]']                \n",
      "                                                                                                  \n",
      "==================================================================================================\n",
      "Total params: 2,000,002\n",
      "Trainable params: 2,000,002\n",
      "Non-trainable params: 0\n",
      "__________________________________________________________________________________________________\n",
      "None\n"
     ]
    },
    {
     "name": "stderr",
     "output_type": "stream",
     "text": [
      "D:\\Softwares\\Anaconda\\lib\\site-packages\\keras\\optimizers\\optimizer_v2\\adam.py:114: UserWarning: The `lr` argument is deprecated, use `learning_rate` instead.\n",
      "  super().__init__(name, **kwargs)\n"
     ]
    }
   ],
   "source": [
    "epochs = 1\n",
    "batch_size= 16 # changing batch size from 16 to 3 for data augmentation\n",
    "model = fsnet.model1()\n",
    "opt = Adam(lr=1e-3,decay = 1e-7)\n",
    "model.compile(loss = fsnet.nrmse,optimizer=opt, metrics=['accuracy'])\n",
    "\n",
    "model_name = \"../Models/wnet_part1.hdf5\"\n",
    "# model_name = r\"C:\\Users\\soggy\\Videos\\Hybrid-CS-Model-MRI\\Models\\wnet_part1.hdf5\"\n",
    "if os.path.isfile(model_name):\n",
    "    model.load_weights(model_name)\n",
    "\n",
    "print(model.summary())\n",
    "\n",
    "# Early stopping callback to shut down training after\n",
    "#10 epochs with no improvement\n",
    "earlyStopping = EarlyStopping(monitor='val_loss',\n",
    "                                       patience=20, \n",
    "                                       verbose=0, mode='min')\n",
    "\n",
    "# Checkpoint callback to save model  along the epochs\n",
    "checkpoint = ModelCheckpoint(model_name, mode = 'min', \\\n",
    "                             monitor='val_loss',verbose=0,\\\n",
    "                             save_best_only=True, save_weights_only = True)"
   ]
  },
  {
   "cell_type": "markdown",
   "id": "ce228a00",
   "metadata": {
    "papermill": {
     "duration": 0.01824,
     "end_time": "2022-11-07T22:06:36.202910",
     "exception": false,
     "start_time": "2022-11-07T22:06:36.184670",
     "status": "completed"
    },
    "tags": []
   },
   "source": [
    "## Data Augmentation"
   ]
  },
  {
   "cell_type": "code",
   "execution_count": 9,
   "id": "5cd50585",
   "metadata": {
    "execution": {
     "iopub.execute_input": "2022-11-07T22:06:36.242246Z",
     "iopub.status.busy": "2022-11-07T22:06:36.241072Z",
     "iopub.status.idle": "2022-11-07T22:06:40.452001Z",
     "shell.execute_reply": "2022-11-07T22:06:40.451027Z"
    },
    "papermill": {
     "duration": 4.23635,
     "end_time": "2022-11-07T22:06:40.457328",
     "exception": false,
     "start_time": "2022-11-07T22:06:36.220978",
     "status": "completed"
    },
    "scrolled": true,
    "tags": []
   },
   "outputs": [],
   "source": [
    "seed = 905\n",
    "image_datagen1 = ImageDataGenerator(\n",
    "        rotation_range=40,\n",
    "        width_shift_range=0.075,\n",
    "        height_shift_range=0.075,\n",
    "        shear_range=0.25,\n",
    "        zoom_range=0.25,\n",
    "        horizontal_flip=True,\n",
    "        vertical_flip=True,\n",
    "        fill_mode='nearest')\n",
    "\n",
    "image_datagen2 = ImageDataGenerator(\n",
    "        rotation_range=40,\n",
    "        width_shift_range=0.075,\n",
    "        height_shift_range=0.075,\n",
    "        shear_range=0.25,\n",
    "        zoom_range=0.25,\n",
    "        horizontal_flip=True,\n",
    "        vertical_flip=True,\n",
    "        fill_mode='nearest')\n",
    "\n",
    "image_datagen1.fit(rec_train[:,:,:,0,np.newaxis], augment=True, seed=seed)\n",
    "image_datagen2.fit(rec_train[:,:,:,1,np.newaxis], augment=True, seed=seed)\n",
    "\n",
    "image_generator1 = image_datagen1.flow(rec_train[:,:,:,0,np.newaxis],batch_size = batch_size,seed = seed)\n",
    "image_generator2 = image_datagen1.flow(rec_train[:,:,:,1,np.newaxis],batch_size = batch_size,seed = seed)\n",
    "\n",
    "def combine_generator(gen1,gen2,under_mask,stats):\n",
    "    while True:\n",
    "        rec_real = gen1.next()\n",
    "        rec_imag = gen2.next()\n",
    "        kspace = np.fft.fft2(rec_real[:,:,:,0]+1j*rec_imag[:,:,:,0])\n",
    "        kspace2 = np.zeros((kspace.shape[0],kspace.shape[1],kspace.shape[2],2))\n",
    "        kspace2[:,:,:,0] = kspace.real\n",
    "        kspace2[:,:,:,1] = kspace.imag\n",
    "        kspace_under = kspace2.copy()\n",
    "        kspace_under[:,var_sampling_mask,:] = 0\n",
    "        kspace_under = (kspace_under-stats[0])/stats[1]\n",
    "        rec = np.abs(rec_real[:,:,:,0]+1j*rec_imag[:,:,:,0])[:,:,:,np.newaxis]\n",
    "        \n",
    "        rec_under = np.fft.ifft2(kspace_under[:,:,:,0]+1j*kspace_under[:,:,:,1])\n",
    "        rec_under_expanded = np.expand_dims(rec_under, axis=-1)\n",
    "#         print(rec_under.shape, rec_under_expanded.shape)\n",
    "        yield(kspace_under, [kspace2])\n",
    "\n",
    "# combine generators into one which yields image and masks\n",
    "combined = combine_generator(image_generator1,image_generator2, var_sampling_mask,stats)\n",
    "\n",
    "# sample data augmentation\n",
    "# for ii in combined:\n",
    "#     print(ii[1][1][1].shape)\n",
    "#     plt.figure()\n",
    "#     plt.subplot(221)\n",
    "#     plt.imshow(ii[1][1][1][:,:,0],cmap = 'gray')\n",
    "#     plt.axis(\"off\")\n",
    "#     plt.subplot(222)\n",
    "#     plt.imshow(ii[1][1][1][:,:,0],cmap = 'gray')\n",
    "#     plt.axis(\"off\")\n",
    "#     plt.subplot(223)\n",
    "#     plt.imshow(ii[1][1][1][:,:,0],cmap = 'gray')\n",
    "#     plt.axis(\"off\")\n",
    "#     plt.subplot(224)\n",
    "#     plt.imshow(np.log(1+np.abs(ii[1][0][1][1,:,:,0] + 1j*ii[1][0][1][1,:,:,1])),cmap = 'gray')\n",
    "#     plt.axis(\"off\")\n",
    "#     plt.show()\n",
    "#     print(ii[1][0].shape)\n",
    "#     break"
   ]
  },
  {
   "cell_type": "markdown",
   "id": "6204e767",
   "metadata": {
    "papermill": {
     "duration": 0.01988,
     "end_time": "2022-11-07T22:06:40.501054",
     "exception": false,
     "start_time": "2022-11-07T22:06:40.481174",
     "status": "completed"
    },
    "tags": []
   },
   "source": [
    "## Train model"
   ]
  },
  {
   "cell_type": "code",
   "execution_count": 10,
   "id": "d53bd090",
   "metadata": {
    "execution": {
     "iopub.execute_input": "2022-11-07T22:06:40.542719Z",
     "iopub.status.busy": "2022-11-07T22:06:40.541906Z",
     "iopub.status.idle": "2022-11-08T08:38:52.938552Z",
     "shell.execute_reply": "2022-11-08T08:38:52.937241Z"
    },
    "papermill": {
     "duration": 37932.572625,
     "end_time": "2022-11-08T08:38:53.093365",
     "exception": false,
     "start_time": "2022-11-07T22:06:40.520740",
     "status": "completed"
    },
    "tags": []
   },
   "outputs": [
    {
     "name": "stderr",
     "output_type": "stream",
     "text": [
      "C:\\Users\\soggy\\AppData\\Local\\Temp\\ipykernel_19536\\3953586506.py:1: UserWarning: `model.fit_generator` is deprecated and will be removed in a future version. Please use `Model.fit`, which supports generators.\n",
      "  hist = model.fit_generator(combined,\n"
     ]
    },
    {
     "name": "stdout",
     "output_type": "stream",
     "text": [
      "11/10 [===============================] - ETA: -4s - batch: 5.0000 - size: 15.4545 - loss: 0.9991 - acc: 0.5926"
     ]
    },
    {
     "name": "stderr",
     "output_type": "stream",
     "text": [
      "D:\\Softwares\\Anaconda\\lib\\site-packages\\keras\\engine\\training_v1.py:2332: UserWarning: `Model.state_updates` will be removed in a future version. This property should not be used in TensorFlow 2.0, as `updates` are applied automatically.\n",
      "  updates = self.state_updates\n"
     ]
    },
    {
     "name": "stdout",
     "output_type": "stream",
     "text": [
      "\b\b\b\b\b\b\b\b\b\b\b\b\b\b\b\b\b\b\b\b\b\b\b\b\b\b\b\b\b\b\b\b\b\b\b\b\b\b\b\b\b\b\b\b\b\b\b\b\b\b\b\b\b\b\b\b\b\b\b\b\b\b\b\b\b\b\b\b\b\b\b\b\b\b\b\b\b\b\b\b\b\b\b\b\b\b\b\b\b\b\b\b\b\b\b\b\b\b\b\b\b\b\b\b\b\b\b\b\b\b\b\r",
      "10/10 [==============================] - 179s 17s/step - batch: 5.0000 - size: 15.4545 - loss: 0.9991 - acc: 0.5926 - val_loss: 0.9990 - val_acc: 0.5958\n"
     ]
    }
   ],
   "source": [
    "hist = model.fit_generator(combined,\n",
    "                 epochs=epochs,\n",
    "#                  steps_per_epoch=rec_train.shape[0] / batch_size,\n",
    "                 steps_per_epoch=rec_train.shape[0] / 16,\n",
    "                 verbose=1,\n",
    "                 validation_data= (kspace_val,[kspace_val2]),\n",
    "                 callbacks=[checkpoint,earlyStopping])"
   ]
  },
  {
   "cell_type": "code",
   "execution_count": 11,
   "id": "1cbb0236",
   "metadata": {
    "execution": {
     "iopub.execute_input": "2022-11-08T08:38:53.388922Z",
     "iopub.status.busy": "2022-11-08T08:38:53.388214Z",
     "iopub.status.idle": "2022-11-08T08:38:53.398424Z",
     "shell.execute_reply": "2022-11-08T08:38:53.397250Z"
    },
    "papermill": {
     "duration": 0.162184,
     "end_time": "2022-11-08T08:38:53.400300",
     "exception": false,
     "start_time": "2022-11-08T08:38:53.238116",
     "status": "completed"
    },
    "tags": []
   },
   "outputs": [
    {
     "name": "stdout",
     "output_type": "stream",
     "text": [
      "{'loss': [0.9990649048019858], 'acc': [0.59255450963974], 'val_loss': [0.9990233147845549], 'val_acc': [0.5957669615745544]}\n"
     ]
    }
   ],
   "source": [
    "print(hist.history)"
   ]
  },
  {
   "cell_type": "code",
   "execution_count": 12,
   "id": "0d648778",
   "metadata": {},
   "outputs": [],
   "source": [
    "# model.save(r\"C:\\Users\\soggy\\Videos\\Hybrid-CS-Model-MRI\\Models\\wnet_part1.hdf5\")"
   ]
  }
 ],
 "metadata": {
  "kernelspec": {
   "display_name": "Python 3 (ipykernel)",
   "language": "python",
   "name": "python3"
  },
  "language_info": {
   "codemirror_mode": {
    "name": "ipython",
    "version": 3
   },
   "file_extension": ".py",
   "mimetype": "text/x-python",
   "name": "python",
   "nbconvert_exporter": "python",
   "pygments_lexer": "ipython3",
   "version": "3.9.12"
  },
  "papermill": {
   "default_parameters": {},
   "duration": 38055.231494,
   "end_time": "2022-11-08T08:38:57.808149",
   "environment_variables": {},
   "exception": null,
   "input_path": "train-6-11.ipynb",
   "output_path": "train-8-11-out.ipynb",
   "parameters": {},
   "start_time": "2022-11-07T22:04:42.576655",
   "version": "2.4.0"
  }
 },
 "nbformat": 4,
 "nbformat_minor": 5
}
