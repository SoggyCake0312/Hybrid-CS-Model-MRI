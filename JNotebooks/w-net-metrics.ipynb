{
 "cells": [
  {
   "cell_type": "markdown",
   "metadata": {},
   "source": [
    "# W-net Metrics"
   ]
  },
  {
   "cell_type": "code",
   "execution_count": 1,
   "metadata": {},
   "outputs": [],
   "source": [
    "%matplotlib inline\n",
    "import matplotlib.pylab as plt\n",
    "import numpy as np\n",
    "import os \n",
    "import skimage.measure as meas\n",
    "import nibabel as nib\n",
    "import natsort\n",
    "import glob"
   ]
  },
  {
   "cell_type": "code",
   "execution_count": 3,
   "metadata": {},
   "outputs": [
    {
     "name": "stdout",
     "output_type": "stream",
     "text": [
      "/home/ubuntu/volume1/Raw_data/Kspace/Test/e14296s4_P09216.7.npy\n",
      "../Recs/e14296s4_P09216_hybrid.npy\n"
     ]
    }
   ],
   "source": [
    "orig = \"/home/ubuntu/volume1/Raw_data/Kspace/Test/*.npy\"\n",
    "hybrid = \"../Recs/*.npy\"\n",
    "\n",
    "orig = glob.glob(orig)\n",
    "hybrid = glob.glob(hybrid)\n",
    "\n",
    "orig = natsort.natsorted(orig)\n",
    "hybrid = natsort.natsorted(hybrid)\n",
    "print(orig[0])\n",
    "print(hybrid[0])\n",
    "ref = np.zeros((170*len(orig),256,256))\n",
    "hyb = np.zeros((170*len(hybrid),256,256))"
   ]
  },
  {
   "cell_type": "code",
   "execution_count": 4,
   "metadata": {},
   "outputs": [],
   "source": [
    "for ii in range(len(hybrid)):\n",
    "    aux1 = np.load(orig[ii])\n",
    "    aux1 = np.abs(np.fft.ifft2(aux1[:,:,:,0]+1j*aux1[:,:,:,1])).astype(np.float64)\n",
    "    ref[ii*170:(ii+1)*170,:,:] = aux1\n",
    "    aux2 = np.load(hybrid[ii]).astype(np.float64)\n",
    "    hyb[ii*170:(ii+1)*170,:,:] = aux2"
   ]
  },
  {
   "cell_type": "code",
   "execution_count": 6,
   "metadata": {},
   "outputs": [],
   "source": [
    "metrics = np.zeros((hyb.shape[0],3))\n",
    "for ii in range(hyb.shape[0]):  \n",
    "    metrics[ii,0] = meas.compare_ssim(ref[ii].ravel(),hyb[ii].ravel(),win_size = ref[ii].size-1)\n",
    "    metrics[ii,1] = meas.compare_nrmse(ref[ii],hyb[ii],'min-max')\n",
    "    metrics[ii,2] = meas.compare_psnr(ref[ii],hyb[ii],data_range=(ref[ii].max()-ref[ii].min())) "
   ]
  },
  {
   "cell_type": "code",
   "execution_count": 7,
   "metadata": {},
   "outputs": [
    {
     "name": "stdout",
     "output_type": "stream",
     "text": [
      "Hybrid\n",
      "0.978 +/- 0.076\n",
      "1.827 +/- 1.112\n",
      "35.543 +/- 3.239\n"
     ]
    }
   ],
   "source": [
    "metrics[:,1] = metrics[:,1]*100\n",
    "print(\"Hybrid\")\n",
    "print(\"%.3f +/- %.3f\" %(metrics[:,0].mean(),metrics[:,0].std()))\n",
    "print(\"%.3f +/- %.3f\" %(metrics[:,1].mean(),metrics[:,1].std()))\n",
    "print(\"%.3f +/- %.3f\" %(metrics[:,2].mean(),metrics[:,2].std()))"
   ]
  }
 ],
 "metadata": {
  "kernelspec": {
   "display_name": "Environment (conda_tensorflow_p36)",
   "language": "python",
   "name": "conda_tensorflow_p36"
  },
  "language_info": {
   "codemirror_mode": {
    "name": "ipython",
    "version": 3
   },
   "file_extension": ".py",
   "mimetype": "text/x-python",
   "name": "python",
   "nbconvert_exporter": "python",
   "pygments_lexer": "ipython3",
   "version": "3.6.5"
  }
 },
 "nbformat": 4,
 "nbformat_minor": 2
}
